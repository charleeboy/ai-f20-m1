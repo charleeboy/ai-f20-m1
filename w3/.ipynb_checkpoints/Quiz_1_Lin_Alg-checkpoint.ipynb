{
 "cells": [
  {
   "cell_type": "markdown",
   "metadata": {},
   "source": [
    "## Linear Algebra Quiz #1\n",
    "\n",
    "![title](./img/1_0.jpeg)\n",
    "\n",
    "We strongly suggest working with numpy :)"
   ]
  },
  {
   "cell_type": "code",
   "execution_count": 16,
   "metadata": {
    "ExecuteTime": {
     "end_time": "2020-12-14T15:08:46.372331Z",
     "start_time": "2020-12-14T15:08:46.024813Z"
    }
   },
   "outputs": [],
   "source": [
    "import numpy as np\n"
   ]
  },
  {
   "cell_type": "markdown",
   "metadata": {},
   "source": [
    "![title](./img/1_1.png)"
   ]
  },
  {
   "cell_type": "code",
   "execution_count": 3,
   "metadata": {
    "ExecuteTime": {
     "end_time": "2020-12-14T17:04:01.072924Z",
     "start_time": "2020-12-14T17:04:01.067990Z"
    }
   },
   "outputs": [
    {
     "data": {
      "text/plain": [
       "3.0"
      ]
     },
     "execution_count": 3,
     "metadata": {},
     "output_type": "execute_result"
    }
   ],
   "source": [
    "# type a function that given a 3_dimensional vector it is able to calculate its magnitude\n",
    "def magnitude_3(a,b,c):\n",
    "    import numpy as np\n",
    "    \n",
    "    vector = list(str(a)+ str(b) +str(c))\n",
    "    return(np.linalg.norm(vector))\n",
    "    \n",
    "magnitude_3(2,1,2)\n",
    "\n",
    "   "
   ]
  },
  {
   "cell_type": "code",
   "execution_count": 1,
   "metadata": {
    "ExecuteTime": {
     "end_time": "2020-12-14T16:08:31.676909Z",
     "start_time": "2020-12-14T16:08:31.320909Z"
    }
   },
   "outputs": [
    {
     "data": {
      "text/plain": [
       "3.7416573867739413"
      ]
     },
     "execution_count": 1,
     "metadata": {},
     "output_type": "execute_result"
    }
   ],
   "source": [
    "def magnitude_complete(*arguments):  \n",
    "    import numpy as np\n",
    "    vector =list(arguments)\n",
    "    return (np.sqrt(sum(pow(element, 2) for element in vector)) )\n",
    "  \n",
    "magnitude_complete(1,2,3)\n"
   ]
  },
  {
   "cell_type": "markdown",
   "metadata": {},
   "source": [
    "uncomment the following line when you are ready to test"
   ]
  },
  {
   "cell_type": "code",
   "execution_count": null,
   "metadata": {},
   "outputs": [],
   "source": [
    "#magnitude_complete(1) == 1.0\n",
    "#magnitude_complete(1,2) >= 2.236\n",
    "#magnitude_complete(1,2,3) >= 3.741\n",
    "#magnitude_complete(1,2,3,4,5) >= 5.477\n",
    "#magnitude_complete(1,2,3,4,5) >= 7.416"
   ]
  },
  {
   "cell_type": "markdown",
   "metadata": {},
   "source": [
    "![title](./img/1_2.png)"
   ]
  },
  {
   "cell_type": "code",
   "execution_count": 52,
   "metadata": {
    "ExecuteTime": {
     "end_time": "2020-12-14T15:43:01.271722Z",
     "start_time": "2020-12-14T15:43:01.264921Z"
    }
   },
   "outputs": [
    {
     "data": {
      "text/plain": [
       "(9.222125139210444, 3.0940095503128107)"
      ]
     },
     "execution_count": 52,
     "metadata": {},
     "output_type": "execute_result"
    }
   ],
   "source": [
    "def magnitude_vectors(a, b):\n",
    "    import numpy as np\n",
    "    vectora =list(a)\n",
    "    vectorb =list(b)\n",
    "    maga =  np.linalg.norm(vectora)\n",
    "    magb =  np.linalg.norm(vectorb)\n",
    "    \n",
    "    dot_product = np.dot((vectora/maga), (vectorb/magb))\n",
    "    angle = np.arccos(dot_product)\n",
    "    return (maga+magb,angle)\n",
    " \n",
    "magnitude_vectors([5, 1], [-4, -1])\n"
   ]
  },
  {
   "cell_type": "markdown",
   "metadata": {},
   "source": [
    "![title](./img/1_3.png)"
   ]
  },
  {
   "cell_type": "code",
   "execution_count": 56,
   "metadata": {
    "ExecuteTime": {
     "end_time": "2020-12-14T15:48:42.252814Z",
     "start_time": "2020-12-14T15:48:42.243358Z"
    }
   },
   "outputs": [
    {
     "data": {
      "text/plain": [
       "(9.222125139210444, 3.0940095503128107)"
      ]
     },
     "execution_count": 56,
     "metadata": {},
     "output_type": "execute_result"
    }
   ],
   "source": [
    "\n",
    "def magdir_vectors(a, b):\n",
    "    import numpy as np\n",
    "    vectora =list(a)\n",
    "    vectorb =list(b)\n",
    "    maga =  np.linalg.norm(vectora)\n",
    "    magb =  np.linalg.norm(vectorb)\n",
    "    \n",
    "    dot_product = np.dot((vectora/maga), (vectorb/magb))\n",
    "    angle = np.arccos(dot_product)\n",
    "    return (\"The magnitude of\", a, \"+\" ,b, \"is X and the direction is\" ,angle)\n",
    " \n",
    "magnitude_vectors([5, 1], [-4, -1])\n",
    "\n",
    "    \n",
    "    #returns the magnitude and direction in a nicely printed format \n",
    "    #\"The magnitude of a + b is X and the direction is Y\""
   ]
  },
  {
   "cell_type": "markdown",
   "metadata": {},
   "source": [
    "![title](./img/1_4.png)\n",
    "- What is the magnitude of αx⃗? \n",
    "- If α>0, will the direction of the resulting vector change?\n",
    "- If α<0, will the direction of the resulting vector change?\n",
    "- If −1<α<1, will ∥αx⃗∥  increase, decrease or stay the same?"
   ]
  },
  {
   "cell_type": "code",
   "execution_count": null,
   "metadata": {},
   "outputs": [],
   "source": [
    "def alpha_magnitude(alpha, b):\n",
    "    \n",
    "    #returns the resulting magnitude, if the direction has changed and what has happened to the vector"
   ]
  }
 ],
 "metadata": {
  "kernelspec": {
   "display_name": "Python 3",
   "language": "python",
   "name": "python3"
  },
  "language_info": {
   "codemirror_mode": {
    "name": "ipython",
    "version": 3
   },
   "file_extension": ".py",
   "mimetype": "text/x-python",
   "name": "python",
   "nbconvert_exporter": "python",
   "pygments_lexer": "ipython3",
   "version": "3.8.5"
  }
 },
 "nbformat": 4,
 "nbformat_minor": 2
}
