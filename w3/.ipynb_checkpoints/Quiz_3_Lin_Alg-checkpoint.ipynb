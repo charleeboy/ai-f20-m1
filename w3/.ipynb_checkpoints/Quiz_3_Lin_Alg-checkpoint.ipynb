{
 "cells": [
  {
   "cell_type": "markdown",
   "metadata": {},
   "source": [
    "## Linear Algebra Quiz #3\n",
    "\n",
    "![title](./img/3_0.jpeg)\n",
    "\n",
    "We strongly suggest working with numpy :)"
   ]
  },
  {
   "cell_type": "code",
   "execution_count": 26,
   "metadata": {
    "ExecuteTime": {
     "end_time": "2020-12-15T15:35:16.013167Z",
     "start_time": "2020-12-15T15:35:16.005628Z"
    }
   },
   "outputs": [
    {
     "name": "stdout",
     "output_type": "stream",
     "text": [
      "[ 0.000e+00  5.000e+00 -2.000e+00 -1.500e+01  8.000e+00 -1.000e+00\n",
      "  0.000e+00  1.500e+00 -3.200e+01  1.200e+00 -3.000e+01 -8.000e+00\n",
      "  4.500e+01 -1.372e+03  0.000e+00  0.000e+00 -0.000e+00  0.000e+00\n",
      "  0.000e+00  0.000e+00  0.000e+00  0.000e+00  0.000e+00  0.000e+00]\n"
     ]
    }
   ],
   "source": [
    "import numpy as np\n",
    "\n",
    "a1 = np.array([[3,1,2],\n",
    "               [-5,4,1],\n",
    "               [0,3,-8]]).flatten()\n",
    "b1 = np.array([[0,5,-1],\n",
    "               [3,2,-1],\n",
    "               [10,0.5,4]]).flatten()\n",
    "\n",
    "a2 = np.array([[0.6,-15,2,5,98]]).flatten()\n",
    "b2 = np.array([[2,2,-4],\n",
    "                 [9,-14,0],\n",
    "                 [13,-0.5,44],\n",
    "                [1,9,4],\n",
    "                [0,0,5]]).flatten()\n",
    "a1a2 = np.concatenate ([a1,a2])\n",
    "b1b2 = np.concatenate ([b1,b2])\n",
    "a1a2.resize(b1b2.shape)\n",
    "\n",
    "arr_result = np.multiply(b1b2,a1a2)\n",
    "\n",
    "\n",
    "\n"
   ]
  },
  {
   "cell_type": "markdown",
   "metadata": {},
   "source": [
    "![title](./img/3_2.png)\n",
    "![title](./img/3_3.png)\n",
    "Create a program that can output\n",
    "\n",
    "- What is the value of element c23​ of Matrix C where C=A x B ?\n",
    "- What is the value of element c23​ of Matrix C where C=B x A ?"
   ]
  },
  {
   "cell_type": "code",
   "execution_count": null,
   "metadata": {},
   "outputs": [],
   "source": [
    "# okay numpy is great but... how would you inverse a matrix by hand?\n",
    "\n",
    "def inverse_matrix(A):\n",
    "    return \"\""
   ]
  },
  {
   "cell_type": "markdown",
   "metadata": {},
   "source": [
    "![title](./img/3_1.png)\n",
    "Create a program that can output\n",
    "\n",
    "- What is the value of the ijth element if i = 2 and j=3?\n",
    "- What is the value of the ijth element if i = 3 and j=1?"
   ]
  },
  {
   "cell_type": "code",
   "execution_count": null,
   "metadata": {},
   "outputs": [],
   "source": [
    "# Just answer using code --> easy stuff!\n",
    "a = np.array([[3,0.6,4,-3],\n",
    "               [-1.3,4,0,8.6],\n",
    "               [7,0,-8,0.006]])\n",
    "b = np.array([[3,-5.76,45,0],\n",
    "               [2,-2,1.3,9],\n",
    "               [-9,0,0,0]])\n",
    "c = np.array([[0,1009,-66.7849,90],\n",
    "               [0,5,4,-0.07],\n",
    "               [-7.7,0,0,0]])\n",
    "\n"
   ]
  },
  {
   "cell_type": "markdown",
   "metadata": {},
   "source": [
    "![title](./img/3_3.png)\n",
    "Create a program that can output\n",
    "- How many rows will C have?\n",
    "- How many columns will C have?\n",
    "- What will be the value of c13​?"
   ]
  },
  {
   "cell_type": "code",
   "execution_count": null,
   "metadata": {},
   "outputs": [],
   "source": []
  }
 ],
 "metadata": {
  "kernelspec": {
   "display_name": "Python 3",
   "language": "python",
   "name": "python3"
  },
  "language_info": {
   "codemirror_mode": {
    "name": "ipython",
    "version": 3
   },
   "file_extension": ".py",
   "mimetype": "text/x-python",
   "name": "python",
   "nbconvert_exporter": "python",
   "pygments_lexer": "ipython3",
   "version": "3.8.5"
  }
 },
 "nbformat": 4,
 "nbformat_minor": 2
}
